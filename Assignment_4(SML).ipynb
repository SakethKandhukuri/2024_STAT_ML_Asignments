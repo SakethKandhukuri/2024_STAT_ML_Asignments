{
  "nbformat": 4,
  "nbformat_minor": 0,
  "metadata": {
    "colab": {
      "provenance": [],
      "authorship_tag": "ABX9TyPJ7lQG5iQPXGhTDWKzonlb",
      "include_colab_link": true
    },
    "kernelspec": {
      "name": "python3",
      "display_name": "Python 3"
    },
    "language_info": {
      "name": "python"
    }
  },
  "cells": [
    {
      "cell_type": "markdown",
      "metadata": {
        "id": "view-in-github",
        "colab_type": "text"
      },
      "source": [
        "<a href=\"https://colab.research.google.com/github/SakethKandhukuri/2024_STAT_ML_Asignments/blob/main/Assignment_4(SML).ipynb\" target=\"_parent\"><img src=\"https://colab.research.google.com/assets/colab-badge.svg\" alt=\"Open In Colab\"/></a>"
      ]
    },
    {
      "cell_type": "markdown",
      "source": [
        "1. Read the data with pandas and find features and target variables"
      ],
      "metadata": {
        "id": "8h0Qh0mWZNII"
      }
    },
    {
      "cell_type": "code",
      "source": [
        "import pandas as pd\n",
        "\n",
        "# Define the file path\n",
        "file_path = \"/content/sample_data/train.csv\"\n",
        "\n",
        "# Read the data into a DataFrame\n",
        "df = pd.read_csv(file_path)\n",
        "\n",
        "# Print the DataFrame\n",
        "print(df)"
      ],
      "metadata": {
        "colab": {
          "base_uri": "https://localhost:8080/"
        },
        "id": "GDtmFrpnYqNB",
        "outputId": "c6b1be2d-ad61-4fa6-f64d-89b83cfa6366"
      },
      "execution_count": null,
      "outputs": [
        {
          "output_type": "stream",
          "name": "stdout",
          "text": [
            "      battery_power  blue  clock_speed  dual_sim  fc  four_g  int_memory  \\\n",
            "0               842     0          2.2         0   1       0           7   \n",
            "1              1021     1          0.5         1   0       1          53   \n",
            "2               563     1          0.5         1   2       1          41   \n",
            "3               615     1          2.5         0   0       0          10   \n",
            "4              1821     1          1.2         0  13       1          44   \n",
            "...             ...   ...          ...       ...  ..     ...         ...   \n",
            "1995            794     1          0.5         1   0       1           2   \n",
            "1996           1965     1          2.6         1   0       0          39   \n",
            "1997           1911     0          0.9         1   1       1          36   \n",
            "1998           1512     0          0.9         0   4       1          46   \n",
            "1999            510     1          2.0         1   5       1          45   \n",
            "\n",
            "      m_dep  mobile_wt  n_cores  ...  px_height  px_width   ram  sc_h  sc_w  \\\n",
            "0       0.6        188        2  ...         20       756  2549     9     7   \n",
            "1       0.7        136        3  ...        905      1988  2631    17     3   \n",
            "2       0.9        145        5  ...       1263      1716  2603    11     2   \n",
            "3       0.8        131        6  ...       1216      1786  2769    16     8   \n",
            "4       0.6        141        2  ...       1208      1212  1411     8     2   \n",
            "...     ...        ...      ...  ...        ...       ...   ...   ...   ...   \n",
            "1995    0.8        106        6  ...       1222      1890   668    13     4   \n",
            "1996    0.2        187        4  ...        915      1965  2032    11    10   \n",
            "1997    0.7        108        8  ...        868      1632  3057     9     1   \n",
            "1998    0.1        145        5  ...        336       670   869    18    10   \n",
            "1999    0.9        168        6  ...        483       754  3919    19     4   \n",
            "\n",
            "      talk_time  three_g  touch_screen  wifi  price_range  \n",
            "0            19        0             0     1            1  \n",
            "1             7        1             1     0            2  \n",
            "2             9        1             1     0            2  \n",
            "3            11        1             0     0            2  \n",
            "4            15        1             1     0            1  \n",
            "...         ...      ...           ...   ...          ...  \n",
            "1995         19        1             1     0            0  \n",
            "1996         16        1             1     1            2  \n",
            "1997          5        1             1     0            3  \n",
            "1998         19        1             1     1            0  \n",
            "1999          2        1             1     1            3  \n",
            "\n",
            "[2000 rows x 21 columns]\n"
          ]
        }
      ]
    },
    {
      "cell_type": "code",
      "source": [
        "y=df['price_range']\n",
        "print(y)"
      ],
      "metadata": {
        "colab": {
          "base_uri": "https://localhost:8080/"
        },
        "id": "JAOFp9urZoiu",
        "outputId": "1368de5c-ae54-4671-ca3a-a2d55f736094"
      },
      "execution_count": null,
      "outputs": [
        {
          "output_type": "stream",
          "name": "stdout",
          "text": [
            "0       1\n",
            "1       2\n",
            "2       2\n",
            "3       2\n",
            "4       1\n",
            "       ..\n",
            "1995    0\n",
            "1996    2\n",
            "1997    3\n",
            "1998    0\n",
            "1999    3\n",
            "Name: price_range, Length: 2000, dtype: int64\n"
          ]
        }
      ]
    },
    {
      "cell_type": "markdown",
      "source": [
        "2. Normalize the data with min-max scaling"
      ],
      "metadata": {
        "id": "k9mXHLCRbEJG"
      }
    },
    {
      "cell_type": "code",
      "source": [
        "x=df.drop('price_range',axis=1)\n",
        "print(x)"
      ],
      "metadata": {
        "colab": {
          "base_uri": "https://localhost:8080/"
        },
        "id": "46VCAY1ib1Zn",
        "outputId": "ca34e637-5b4d-400c-de06-1259df40142b"
      },
      "execution_count": null,
      "outputs": [
        {
          "output_type": "stream",
          "name": "stdout",
          "text": [
            "      battery_power  blue  clock_speed  dual_sim  fc  four_g  int_memory  \\\n",
            "0               842     0          2.2         0   1       0           7   \n",
            "1              1021     1          0.5         1   0       1          53   \n",
            "2               563     1          0.5         1   2       1          41   \n",
            "3               615     1          2.5         0   0       0          10   \n",
            "4              1821     1          1.2         0  13       1          44   \n",
            "...             ...   ...          ...       ...  ..     ...         ...   \n",
            "1995            794     1          0.5         1   0       1           2   \n",
            "1996           1965     1          2.6         1   0       0          39   \n",
            "1997           1911     0          0.9         1   1       1          36   \n",
            "1998           1512     0          0.9         0   4       1          46   \n",
            "1999            510     1          2.0         1   5       1          45   \n",
            "\n",
            "      m_dep  mobile_wt  n_cores  pc  px_height  px_width   ram  sc_h  sc_w  \\\n",
            "0       0.6        188        2   2         20       756  2549     9     7   \n",
            "1       0.7        136        3   6        905      1988  2631    17     3   \n",
            "2       0.9        145        5   6       1263      1716  2603    11     2   \n",
            "3       0.8        131        6   9       1216      1786  2769    16     8   \n",
            "4       0.6        141        2  14       1208      1212  1411     8     2   \n",
            "...     ...        ...      ...  ..        ...       ...   ...   ...   ...   \n",
            "1995    0.8        106        6  14       1222      1890   668    13     4   \n",
            "1996    0.2        187        4   3        915      1965  2032    11    10   \n",
            "1997    0.7        108        8   3        868      1632  3057     9     1   \n",
            "1998    0.1        145        5   5        336       670   869    18    10   \n",
            "1999    0.9        168        6  16        483       754  3919    19     4   \n",
            "\n",
            "      talk_time  three_g  touch_screen  wifi  \n",
            "0            19        0             0     1  \n",
            "1             7        1             1     0  \n",
            "2             9        1             1     0  \n",
            "3            11        1             0     0  \n",
            "4            15        1             1     0  \n",
            "...         ...      ...           ...   ...  \n",
            "1995         19        1             1     0  \n",
            "1996         16        1             1     1  \n",
            "1997          5        1             1     0  \n",
            "1998         19        1             1     1  \n",
            "1999          2        1             1     1  \n",
            "\n",
            "[2000 rows x 20 columns]\n"
          ]
        }
      ]
    },
    {
      "cell_type": "code",
      "source": [
        "p=(df-df.min())/(df.max()-df.min())\n",
        "print(p)"
      ],
      "metadata": {
        "colab": {
          "base_uri": "https://localhost:8080/"
        },
        "id": "yiYgKfTOdsDp",
        "outputId": "3d3ffee0-000a-4632-b7ef-e0bdeb9db72b"
      },
      "execution_count": null,
      "outputs": [
        {
          "output_type": "stream",
          "name": "stdout",
          "text": [
            "      battery_power  blue  clock_speed  dual_sim        fc  four_g  \\\n",
            "0          0.227789   0.0         0.68       0.0  0.052632     0.0   \n",
            "1          0.347361   1.0         0.00       1.0  0.000000     1.0   \n",
            "2          0.041416   1.0         0.00       1.0  0.105263     1.0   \n",
            "3          0.076152   1.0         0.80       0.0  0.000000     0.0   \n",
            "4          0.881764   1.0         0.28       0.0  0.684211     1.0   \n",
            "...             ...   ...          ...       ...       ...     ...   \n",
            "1995       0.195725   1.0         0.00       1.0  0.000000     1.0   \n",
            "1996       0.977956   1.0         0.84       1.0  0.000000     0.0   \n",
            "1997       0.941884   0.0         0.16       1.0  0.052632     1.0   \n",
            "1998       0.675351   0.0         0.16       0.0  0.210526     1.0   \n",
            "1999       0.006012   1.0         0.60       1.0  0.263158     1.0   \n",
            "\n",
            "      int_memory     m_dep  mobile_wt   n_cores  ...  px_height  px_width  \\\n",
            "0       0.080645  0.555556   0.900000  0.142857  ...   0.010204  0.170895   \n",
            "1       0.822581  0.666667   0.466667  0.285714  ...   0.461735  0.993324   \n",
            "2       0.629032  0.888889   0.541667  0.571429  ...   0.644388  0.811749   \n",
            "3       0.129032  0.777778   0.425000  0.714286  ...   0.620408  0.858478   \n",
            "4       0.677419  0.555556   0.508333  0.142857  ...   0.616327  0.475300   \n",
            "...          ...       ...        ...       ...  ...        ...       ...   \n",
            "1995    0.000000  0.777778   0.216667  0.714286  ...   0.623469  0.927904   \n",
            "1996    0.596774  0.111111   0.891667  0.428571  ...   0.466837  0.977971   \n",
            "1997    0.548387  0.666667   0.233333  1.000000  ...   0.442857  0.755674   \n",
            "1998    0.709677  0.000000   0.541667  0.571429  ...   0.171429  0.113485   \n",
            "1999    0.693548  0.888889   0.733333  0.714286  ...   0.246429  0.169559   \n",
            "\n",
            "           ram      sc_h      sc_w  talk_time  three_g  touch_screen  wifi  \\\n",
            "0     0.612774  0.285714  0.388889   0.944444      0.0           0.0   1.0   \n",
            "1     0.634687  0.857143  0.166667   0.277778      1.0           1.0   0.0   \n",
            "2     0.627205  0.428571  0.111111   0.388889      1.0           1.0   0.0   \n",
            "3     0.671566  0.785714  0.444444   0.500000      1.0           0.0   0.0   \n",
            "4     0.308658  0.214286  0.111111   0.722222      1.0           1.0   0.0   \n",
            "...        ...       ...       ...        ...      ...           ...   ...   \n",
            "1995  0.110102  0.571429  0.222222   0.944444      1.0           1.0   0.0   \n",
            "1996  0.474613  0.428571  0.555556   0.777778      1.0           1.0   1.0   \n",
            "1997  0.748530  0.285714  0.055556   0.166667      1.0           1.0   0.0   \n",
            "1998  0.163816  0.928571  0.555556   0.944444      1.0           1.0   1.0   \n",
            "1999  0.978888  1.000000  0.222222   0.000000      1.0           1.0   1.0   \n",
            "\n",
            "      price_range  \n",
            "0        0.333333  \n",
            "1        0.666667  \n",
            "2        0.666667  \n",
            "3        0.666667  \n",
            "4        0.333333  \n",
            "...           ...  \n",
            "1995     0.000000  \n",
            "1996     0.666667  \n",
            "1997     1.000000  \n",
            "1998     0.000000  \n",
            "1999     1.000000  \n",
            "\n",
            "[2000 rows x 21 columns]\n"
          ]
        }
      ]
    },
    {
      "cell_type": "markdown",
      "source": [
        "3. Split the data into train and test."
      ],
      "metadata": {
        "id": "pvBJx9fgjEjM"
      }
    },
    {
      "cell_type": "code",
      "source": [
        "from sklearn.model_selection import train_test_split"
      ],
      "metadata": {
        "id": "BBJ2NlOFgmd_"
      },
      "execution_count": null,
      "outputs": []
    },
    {
      "cell_type": "code",
      "source": [
        "x_train,x_test,y_train,y_test=train_test_split(x,y,test_size=0.2,random_state=42)"
      ],
      "metadata": {
        "id": "Z_owytJQg7R4"
      },
      "execution_count": null,
      "outputs": []
    },
    {
      "cell_type": "code",
      "source": [
        "print(x_train)\n",
        "print(y_train)\n",
        "print(x_test)\n",
        "print(y_test)"
      ],
      "metadata": {
        "colab": {
          "base_uri": "https://localhost:8080/"
        },
        "id": "VfQisYVgjb-j",
        "outputId": "a7825b11-8983-448b-ee10-4489379e8cab"
      },
      "execution_count": null,
      "outputs": [
        {
          "output_type": "stream",
          "name": "stdout",
          "text": [
            "      battery_power  blue  clock_speed  dual_sim  fc  four_g  int_memory  \\\n",
            "968            1923     0          0.5         1   7       0          46   \n",
            "240             633     1          2.2         0   0       1          49   \n",
            "819            1236     0          0.9         1   2       1          57   \n",
            "692             781     0          1.1         0   2       0          38   \n",
            "420            1456     1          0.5         1   7       0           7   \n",
            "...             ...   ...          ...       ...  ..     ...         ...   \n",
            "1130           1975     1          1.9         1   2       0          31   \n",
            "1294            589     1          0.5         0   1       1          59   \n",
            "860            1829     1          0.5         0   0       1          15   \n",
            "1459           1927     0          0.9         1   3       0          11   \n",
            "1126            635     1          0.6         1   1       1          50   \n",
            "\n",
            "      m_dep  mobile_wt  n_cores  pc  px_height  px_width   ram  sc_h  sc_w  \\\n",
            "968     0.5        191        1  10        767      1759  1489    10     9   \n",
            "240     0.1        139        8   1        529      1009  3560    11     1   \n",
            "819     0.1        188        1  14        517       809  1406    14    12   \n",
            "692     0.4        198        5   7        304      1674  3508    13     8   \n",
            "420     0.4        105        5  12        823      1104  1587     6     5   \n",
            "...     ...        ...      ...  ..        ...       ...   ...   ...   ...   \n",
            "1130    0.9        151        1  17        775      1607  3022    13     5   \n",
            "1294    0.7        146        8   4        759      1858   362    16    10   \n",
            "860     0.4        160        5   7        729      1267  2080    16    11   \n",
            "1459    0.4        190        8  12        491      1506  2916    16    11   \n",
            "1126    0.3         97        5  13        193       989  2107    13    12   \n",
            "\n",
            "      talk_time  three_g  touch_screen  wifi  \n",
            "968           3        1             1     1  \n",
            "240          16        1             1     1  \n",
            "819          20        1             0     1  \n",
            "692           5        0             0     1  \n",
            "420          20        1             0     1  \n",
            "...         ...      ...           ...   ...  \n",
            "1130         19        0             0     1  \n",
            "1294          6        1             1     1  \n",
            "860          12        1             0     1  \n",
            "1459         18        0             1     1  \n",
            "1126         12        1             0     0  \n",
            "\n",
            "[1600 rows x 20 columns]\n",
            "968     1\n",
            "240     2\n",
            "819     0\n",
            "692     3\n",
            "420     1\n",
            "       ..\n",
            "1130    3\n",
            "1294    0\n",
            "860     2\n",
            "1459    3\n",
            "1126    1\n",
            "Name: price_range, Length: 1600, dtype: int64\n",
            "      battery_power  blue  clock_speed  dual_sim  fc  four_g  int_memory  \\\n",
            "1860           1646     0          2.5         0   3       1          25   \n",
            "353            1182     0          0.5         0   7       1           8   \n",
            "1333           1972     0          2.9         0   9       0          14   \n",
            "905             989     1          2.0         0   4       0          17   \n",
            "1289            615     1          0.5         1   7       0          58   \n",
            "...             ...   ...          ...       ...  ..     ...         ...   \n",
            "965            1379     0          0.5         1   1       0          19   \n",
            "1284            991     0          2.0         0   2       1          12   \n",
            "1739           1044     0          1.8         0   4       1          12   \n",
            "261             728     0          2.7         1   0       0          25   \n",
            "535            1185     0          1.9         0   0       0          31   \n",
            "\n",
            "      m_dep  mobile_wt  n_cores  pc  px_height  px_width   ram  sc_h  sc_w  \\\n",
            "1860    0.6        200        2   5        211      1608   686     8     6   \n",
            "353     0.5        138        8  16        275       986  2563    19    17   \n",
            "1333    0.4        196        7  18        293       952  1316     8     1   \n",
            "905     0.2        166        3  19        256      1394  3892    18     7   \n",
            "1289    0.5        130        5   8       1021      1958  1906    14     5   \n",
            "...     ...        ...      ...  ..        ...       ...   ...   ...   ...   \n",
            "965     0.3        134        8  17        387       671  3912    11     2   \n",
            "1284    0.3        158        5   6       1209      1678  2014    11     9   \n",
            "1739    0.7        104        6   5       1230      1263  1794    18     7   \n",
            "261     0.2         88        4   1        526      1529  2039     5     1   \n",
            "535     0.4        152        8   7        837      1642  2447    16     2   \n",
            "\n",
            "      talk_time  three_g  touch_screen  wifi  \n",
            "1860         11        1             1     0  \n",
            "353          19        1             0     0  \n",
            "1333          8        1             1     0  \n",
            "905          19        1             1     0  \n",
            "1289          5        1             0     0  \n",
            "...         ...      ...           ...   ...  \n",
            "965          19        0             1     1  \n",
            "1284         10        1             0     0  \n",
            "1739         19        1             1     1  \n",
            "261          12        1             1     1  \n",
            "535           3        1             1     1  \n",
            "\n",
            "[400 rows x 20 columns]\n",
            "1860    0\n",
            "353     2\n",
            "1333    1\n",
            "905     3\n",
            "1289    1\n",
            "       ..\n",
            "965     3\n",
            "1284    2\n",
            "1739    1\n",
            "261     1\n",
            "535     2\n",
            "Name: price_range, Length: 400, dtype: int64\n"
          ]
        }
      ]
    },
    {
      "cell_type": "markdown",
      "source": [
        "Question - 2:"
      ],
      "metadata": {
        "id": "M7cSLDv4lPx1"
      }
    },
    {
      "cell_type": "code",
      "source": [
        "1. Read the data with pandas and describe the data"
      ],
      "metadata": {
        "id": "liWc_bBNlYyT"
      },
      "execution_count": null,
      "outputs": []
    },
    {
      "cell_type": "code",
      "source": [
        "import pandas as pd\n",
        "file_path = \"/content/sample_data/housing[1].csv\"\n",
        "df = pd.read_csv(file_path)\n",
        "print(df)"
      ],
      "metadata": {
        "colab": {
          "base_uri": "https://localhost:8080/"
        },
        "id": "WPypjfGRlqK2",
        "outputId": "212f7f91-fb80-4670-a225-e65d87fe41df"
      },
      "execution_count": null,
      "outputs": [
        {
          "output_type": "stream",
          "name": "stdout",
          "text": [
            "       longitude  latitude  housing_median_age  total_rooms  total_bedrooms  \\\n",
            "0        -122.23     37.88                41.0        880.0           129.0   \n",
            "1        -122.22     37.86                21.0       7099.0          1106.0   \n",
            "2        -122.24     37.85                52.0       1467.0           190.0   \n",
            "3        -122.25     37.85                52.0       1274.0           235.0   \n",
            "4        -122.25     37.85                52.0       1627.0           280.0   \n",
            "...          ...       ...                 ...          ...             ...   \n",
            "20635    -121.09     39.48                25.0       1665.0           374.0   \n",
            "20636    -121.21     39.49                18.0        697.0           150.0   \n",
            "20637    -121.22     39.43                17.0       2254.0           485.0   \n",
            "20638    -121.32     39.43                18.0       1860.0           409.0   \n",
            "20639    -121.24     39.37                16.0       2785.0           616.0   \n",
            "\n",
            "       population  households  median_income  median_house_value  \\\n",
            "0           322.0       126.0         8.3252            452600.0   \n",
            "1          2401.0      1138.0         8.3014            358500.0   \n",
            "2           496.0       177.0         7.2574            352100.0   \n",
            "3           558.0       219.0         5.6431            341300.0   \n",
            "4           565.0       259.0         3.8462            342200.0   \n",
            "...           ...         ...            ...                 ...   \n",
            "20635       845.0       330.0         1.5603             78100.0   \n",
            "20636       356.0       114.0         2.5568             77100.0   \n",
            "20637      1007.0       433.0         1.7000             92300.0   \n",
            "20638       741.0       349.0         1.8672             84700.0   \n",
            "20639      1387.0       530.0         2.3886             89400.0   \n",
            "\n",
            "      ocean_proximity  \n",
            "0            NEAR BAY  \n",
            "1            NEAR BAY  \n",
            "2            NEAR BAY  \n",
            "3            NEAR BAY  \n",
            "4            NEAR BAY  \n",
            "...               ...  \n",
            "20635          INLAND  \n",
            "20636          INLAND  \n",
            "20637          INLAND  \n",
            "20638          INLAND  \n",
            "20639          INLAND  \n",
            "\n",
            "[20640 rows x 10 columns]\n"
          ]
        }
      ]
    },
    {
      "cell_type": "code",
      "source": [
        "df.describe()"
      ],
      "metadata": {
        "colab": {
          "base_uri": "https://localhost:8080/",
          "height": 320
        },
        "id": "ki03OByCm8l7",
        "outputId": "88fc21e7-1b3d-4c6e-ba7e-9df6224a0d71"
      },
      "execution_count": null,
      "outputs": [
        {
          "output_type": "execute_result",
          "data": {
            "text/plain": [
              "          longitude      latitude  housing_median_age   total_rooms  \\\n",
              "count  20640.000000  20640.000000        20640.000000  20640.000000   \n",
              "mean    -119.569704     35.631861           28.639486   2635.763081   \n",
              "std        2.003532      2.135952           12.585558   2181.615252   \n",
              "min     -124.350000     32.540000            1.000000      2.000000   \n",
              "25%     -121.800000     33.930000           18.000000   1447.750000   \n",
              "50%     -118.490000     34.260000           29.000000   2127.000000   \n",
              "75%     -118.010000     37.710000           37.000000   3148.000000   \n",
              "max     -114.310000     41.950000           52.000000  39320.000000   \n",
              "\n",
              "       total_bedrooms    population    households  median_income  \\\n",
              "count    20433.000000  20640.000000  20640.000000   20640.000000   \n",
              "mean       537.870553   1425.476744    499.539680       3.870671   \n",
              "std        421.385070   1132.462122    382.329753       1.899822   \n",
              "min          1.000000      3.000000      1.000000       0.499900   \n",
              "25%        296.000000    787.000000    280.000000       2.563400   \n",
              "50%        435.000000   1166.000000    409.000000       3.534800   \n",
              "75%        647.000000   1725.000000    605.000000       4.743250   \n",
              "max       6445.000000  35682.000000   6082.000000      15.000100   \n",
              "\n",
              "       median_house_value  \n",
              "count        20640.000000  \n",
              "mean        206855.816909  \n",
              "std         115395.615874  \n",
              "min          14999.000000  \n",
              "25%         119600.000000  \n",
              "50%         179700.000000  \n",
              "75%         264725.000000  \n",
              "max         500001.000000  "
            ],
            "text/html": [
              "\n",
              "  <div id=\"df-f3b9d1fb-a10d-4a09-add6-9d531a856adc\" class=\"colab-df-container\">\n",
              "    <div>\n",
              "<style scoped>\n",
              "    .dataframe tbody tr th:only-of-type {\n",
              "        vertical-align: middle;\n",
              "    }\n",
              "\n",
              "    .dataframe tbody tr th {\n",
              "        vertical-align: top;\n",
              "    }\n",
              "\n",
              "    .dataframe thead th {\n",
              "        text-align: right;\n",
              "    }\n",
              "</style>\n",
              "<table border=\"1\" class=\"dataframe\">\n",
              "  <thead>\n",
              "    <tr style=\"text-align: right;\">\n",
              "      <th></th>\n",
              "      <th>longitude</th>\n",
              "      <th>latitude</th>\n",
              "      <th>housing_median_age</th>\n",
              "      <th>total_rooms</th>\n",
              "      <th>total_bedrooms</th>\n",
              "      <th>population</th>\n",
              "      <th>households</th>\n",
              "      <th>median_income</th>\n",
              "      <th>median_house_value</th>\n",
              "    </tr>\n",
              "  </thead>\n",
              "  <tbody>\n",
              "    <tr>\n",
              "      <th>count</th>\n",
              "      <td>20640.000000</td>\n",
              "      <td>20640.000000</td>\n",
              "      <td>20640.000000</td>\n",
              "      <td>20640.000000</td>\n",
              "      <td>20433.000000</td>\n",
              "      <td>20640.000000</td>\n",
              "      <td>20640.000000</td>\n",
              "      <td>20640.000000</td>\n",
              "      <td>20640.000000</td>\n",
              "    </tr>\n",
              "    <tr>\n",
              "      <th>mean</th>\n",
              "      <td>-119.569704</td>\n",
              "      <td>35.631861</td>\n",
              "      <td>28.639486</td>\n",
              "      <td>2635.763081</td>\n",
              "      <td>537.870553</td>\n",
              "      <td>1425.476744</td>\n",
              "      <td>499.539680</td>\n",
              "      <td>3.870671</td>\n",
              "      <td>206855.816909</td>\n",
              "    </tr>\n",
              "    <tr>\n",
              "      <th>std</th>\n",
              "      <td>2.003532</td>\n",
              "      <td>2.135952</td>\n",
              "      <td>12.585558</td>\n",
              "      <td>2181.615252</td>\n",
              "      <td>421.385070</td>\n",
              "      <td>1132.462122</td>\n",
              "      <td>382.329753</td>\n",
              "      <td>1.899822</td>\n",
              "      <td>115395.615874</td>\n",
              "    </tr>\n",
              "    <tr>\n",
              "      <th>min</th>\n",
              "      <td>-124.350000</td>\n",
              "      <td>32.540000</td>\n",
              "      <td>1.000000</td>\n",
              "      <td>2.000000</td>\n",
              "      <td>1.000000</td>\n",
              "      <td>3.000000</td>\n",
              "      <td>1.000000</td>\n",
              "      <td>0.499900</td>\n",
              "      <td>14999.000000</td>\n",
              "    </tr>\n",
              "    <tr>\n",
              "      <th>25%</th>\n",
              "      <td>-121.800000</td>\n",
              "      <td>33.930000</td>\n",
              "      <td>18.000000</td>\n",
              "      <td>1447.750000</td>\n",
              "      <td>296.000000</td>\n",
              "      <td>787.000000</td>\n",
              "      <td>280.000000</td>\n",
              "      <td>2.563400</td>\n",
              "      <td>119600.000000</td>\n",
              "    </tr>\n",
              "    <tr>\n",
              "      <th>50%</th>\n",
              "      <td>-118.490000</td>\n",
              "      <td>34.260000</td>\n",
              "      <td>29.000000</td>\n",
              "      <td>2127.000000</td>\n",
              "      <td>435.000000</td>\n",
              "      <td>1166.000000</td>\n",
              "      <td>409.000000</td>\n",
              "      <td>3.534800</td>\n",
              "      <td>179700.000000</td>\n",
              "    </tr>\n",
              "    <tr>\n",
              "      <th>75%</th>\n",
              "      <td>-118.010000</td>\n",
              "      <td>37.710000</td>\n",
              "      <td>37.000000</td>\n",
              "      <td>3148.000000</td>\n",
              "      <td>647.000000</td>\n",
              "      <td>1725.000000</td>\n",
              "      <td>605.000000</td>\n",
              "      <td>4.743250</td>\n",
              "      <td>264725.000000</td>\n",
              "    </tr>\n",
              "    <tr>\n",
              "      <th>max</th>\n",
              "      <td>-114.310000</td>\n",
              "      <td>41.950000</td>\n",
              "      <td>52.000000</td>\n",
              "      <td>39320.000000</td>\n",
              "      <td>6445.000000</td>\n",
              "      <td>35682.000000</td>\n",
              "      <td>6082.000000</td>\n",
              "      <td>15.000100</td>\n",
              "      <td>500001.000000</td>\n",
              "    </tr>\n",
              "  </tbody>\n",
              "</table>\n",
              "</div>\n",
              "    <div class=\"colab-df-buttons\">\n",
              "\n",
              "  <div class=\"colab-df-container\">\n",
              "    <button class=\"colab-df-convert\" onclick=\"convertToInteractive('df-f3b9d1fb-a10d-4a09-add6-9d531a856adc')\"\n",
              "            title=\"Convert this dataframe to an interactive table.\"\n",
              "            style=\"display:none;\">\n",
              "\n",
              "  <svg xmlns=\"http://www.w3.org/2000/svg\" height=\"24px\" viewBox=\"0 -960 960 960\">\n",
              "    <path d=\"M120-120v-720h720v720H120Zm60-500h600v-160H180v160Zm220 220h160v-160H400v160Zm0 220h160v-160H400v160ZM180-400h160v-160H180v160Zm440 0h160v-160H620v160ZM180-180h160v-160H180v160Zm440 0h160v-160H620v160Z\"/>\n",
              "  </svg>\n",
              "    </button>\n",
              "\n",
              "  <style>\n",
              "    .colab-df-container {\n",
              "      display:flex;\n",
              "      gap: 12px;\n",
              "    }\n",
              "\n",
              "    .colab-df-convert {\n",
              "      background-color: #E8F0FE;\n",
              "      border: none;\n",
              "      border-radius: 50%;\n",
              "      cursor: pointer;\n",
              "      display: none;\n",
              "      fill: #1967D2;\n",
              "      height: 32px;\n",
              "      padding: 0 0 0 0;\n",
              "      width: 32px;\n",
              "    }\n",
              "\n",
              "    .colab-df-convert:hover {\n",
              "      background-color: #E2EBFA;\n",
              "      box-shadow: 0px 1px 2px rgba(60, 64, 67, 0.3), 0px 1px 3px 1px rgba(60, 64, 67, 0.15);\n",
              "      fill: #174EA6;\n",
              "    }\n",
              "\n",
              "    .colab-df-buttons div {\n",
              "      margin-bottom: 4px;\n",
              "    }\n",
              "\n",
              "    [theme=dark] .colab-df-convert {\n",
              "      background-color: #3B4455;\n",
              "      fill: #D2E3FC;\n",
              "    }\n",
              "\n",
              "    [theme=dark] .colab-df-convert:hover {\n",
              "      background-color: #434B5C;\n",
              "      box-shadow: 0px 1px 3px 1px rgba(0, 0, 0, 0.15);\n",
              "      filter: drop-shadow(0px 1px 2px rgba(0, 0, 0, 0.3));\n",
              "      fill: #FFFFFF;\n",
              "    }\n",
              "  </style>\n",
              "\n",
              "    <script>\n",
              "      const buttonEl =\n",
              "        document.querySelector('#df-f3b9d1fb-a10d-4a09-add6-9d531a856adc button.colab-df-convert');\n",
              "      buttonEl.style.display =\n",
              "        google.colab.kernel.accessAllowed ? 'block' : 'none';\n",
              "\n",
              "      async function convertToInteractive(key) {\n",
              "        const element = document.querySelector('#df-f3b9d1fb-a10d-4a09-add6-9d531a856adc');\n",
              "        const dataTable =\n",
              "          await google.colab.kernel.invokeFunction('convertToInteractive',\n",
              "                                                    [key], {});\n",
              "        if (!dataTable) return;\n",
              "\n",
              "        const docLinkHtml = 'Like what you see? Visit the ' +\n",
              "          '<a target=\"_blank\" href=https://colab.research.google.com/notebooks/data_table.ipynb>data table notebook</a>'\n",
              "          + ' to learn more about interactive tables.';\n",
              "        element.innerHTML = '';\n",
              "        dataTable['output_type'] = 'display_data';\n",
              "        await google.colab.output.renderOutput(dataTable, element);\n",
              "        const docLink = document.createElement('div');\n",
              "        docLink.innerHTML = docLinkHtml;\n",
              "        element.appendChild(docLink);\n",
              "      }\n",
              "    </script>\n",
              "  </div>\n",
              "\n",
              "\n",
              "<div id=\"df-f121ad89-944d-48da-9dc1-d557e8f5f56f\">\n",
              "  <button class=\"colab-df-quickchart\" onclick=\"quickchart('df-f121ad89-944d-48da-9dc1-d557e8f5f56f')\"\n",
              "            title=\"Suggest charts\"\n",
              "            style=\"display:none;\">\n",
              "\n",
              "<svg xmlns=\"http://www.w3.org/2000/svg\" height=\"24px\"viewBox=\"0 0 24 24\"\n",
              "     width=\"24px\">\n",
              "    <g>\n",
              "        <path d=\"M19 3H5c-1.1 0-2 .9-2 2v14c0 1.1.9 2 2 2h14c1.1 0 2-.9 2-2V5c0-1.1-.9-2-2-2zM9 17H7v-7h2v7zm4 0h-2V7h2v10zm4 0h-2v-4h2v4z\"/>\n",
              "    </g>\n",
              "</svg>\n",
              "  </button>\n",
              "\n",
              "<style>\n",
              "  .colab-df-quickchart {\n",
              "      --bg-color: #E8F0FE;\n",
              "      --fill-color: #1967D2;\n",
              "      --hover-bg-color: #E2EBFA;\n",
              "      --hover-fill-color: #174EA6;\n",
              "      --disabled-fill-color: #AAA;\n",
              "      --disabled-bg-color: #DDD;\n",
              "  }\n",
              "\n",
              "  [theme=dark] .colab-df-quickchart {\n",
              "      --bg-color: #3B4455;\n",
              "      --fill-color: #D2E3FC;\n",
              "      --hover-bg-color: #434B5C;\n",
              "      --hover-fill-color: #FFFFFF;\n",
              "      --disabled-bg-color: #3B4455;\n",
              "      --disabled-fill-color: #666;\n",
              "  }\n",
              "\n",
              "  .colab-df-quickchart {\n",
              "    background-color: var(--bg-color);\n",
              "    border: none;\n",
              "    border-radius: 50%;\n",
              "    cursor: pointer;\n",
              "    display: none;\n",
              "    fill: var(--fill-color);\n",
              "    height: 32px;\n",
              "    padding: 0;\n",
              "    width: 32px;\n",
              "  }\n",
              "\n",
              "  .colab-df-quickchart:hover {\n",
              "    background-color: var(--hover-bg-color);\n",
              "    box-shadow: 0 1px 2px rgba(60, 64, 67, 0.3), 0 1px 3px 1px rgba(60, 64, 67, 0.15);\n",
              "    fill: var(--button-hover-fill-color);\n",
              "  }\n",
              "\n",
              "  .colab-df-quickchart-complete:disabled,\n",
              "  .colab-df-quickchart-complete:disabled:hover {\n",
              "    background-color: var(--disabled-bg-color);\n",
              "    fill: var(--disabled-fill-color);\n",
              "    box-shadow: none;\n",
              "  }\n",
              "\n",
              "  .colab-df-spinner {\n",
              "    border: 2px solid var(--fill-color);\n",
              "    border-color: transparent;\n",
              "    border-bottom-color: var(--fill-color);\n",
              "    animation:\n",
              "      spin 1s steps(1) infinite;\n",
              "  }\n",
              "\n",
              "  @keyframes spin {\n",
              "    0% {\n",
              "      border-color: transparent;\n",
              "      border-bottom-color: var(--fill-color);\n",
              "      border-left-color: var(--fill-color);\n",
              "    }\n",
              "    20% {\n",
              "      border-color: transparent;\n",
              "      border-left-color: var(--fill-color);\n",
              "      border-top-color: var(--fill-color);\n",
              "    }\n",
              "    30% {\n",
              "      border-color: transparent;\n",
              "      border-left-color: var(--fill-color);\n",
              "      border-top-color: var(--fill-color);\n",
              "      border-right-color: var(--fill-color);\n",
              "    }\n",
              "    40% {\n",
              "      border-color: transparent;\n",
              "      border-right-color: var(--fill-color);\n",
              "      border-top-color: var(--fill-color);\n",
              "    }\n",
              "    60% {\n",
              "      border-color: transparent;\n",
              "      border-right-color: var(--fill-color);\n",
              "    }\n",
              "    80% {\n",
              "      border-color: transparent;\n",
              "      border-right-color: var(--fill-color);\n",
              "      border-bottom-color: var(--fill-color);\n",
              "    }\n",
              "    90% {\n",
              "      border-color: transparent;\n",
              "      border-bottom-color: var(--fill-color);\n",
              "    }\n",
              "  }\n",
              "</style>\n",
              "\n",
              "  <script>\n",
              "    async function quickchart(key) {\n",
              "      const quickchartButtonEl =\n",
              "        document.querySelector('#' + key + ' button');\n",
              "      quickchartButtonEl.disabled = true;  // To prevent multiple clicks.\n",
              "      quickchartButtonEl.classList.add('colab-df-spinner');\n",
              "      try {\n",
              "        const charts = await google.colab.kernel.invokeFunction(\n",
              "            'suggestCharts', [key], {});\n",
              "      } catch (error) {\n",
              "        console.error('Error during call to suggestCharts:', error);\n",
              "      }\n",
              "      quickchartButtonEl.classList.remove('colab-df-spinner');\n",
              "      quickchartButtonEl.classList.add('colab-df-quickchart-complete');\n",
              "    }\n",
              "    (() => {\n",
              "      let quickchartButtonEl =\n",
              "        document.querySelector('#df-f121ad89-944d-48da-9dc1-d557e8f5f56f button');\n",
              "      quickchartButtonEl.style.display =\n",
              "        google.colab.kernel.accessAllowed ? 'block' : 'none';\n",
              "    })();\n",
              "  </script>\n",
              "</div>\n",
              "\n",
              "    </div>\n",
              "  </div>\n"
            ],
            "application/vnd.google.colaboratory.intrinsic+json": {
              "type": "dataframe",
              "summary": "{\n  \"name\": \"df\",\n  \"rows\": 8,\n  \"fields\": [\n    {\n      \"column\": \"longitude\",\n      \"properties\": {\n        \"dtype\": \"number\",\n        \"std\": 7333.554670164394,\n        \"min\": -124.35,\n        \"max\": 20640.0,\n        \"num_unique_values\": 8,\n        \"samples\": [\n          -119.56970445736432,\n          -118.49,\n          20640.0\n        ],\n        \"semantic_type\": \"\",\n        \"description\": \"\"\n      }\n    },\n    {\n      \"column\": \"latitude\",\n      \"properties\": {\n        \"dtype\": \"number\",\n        \"std\": 7286.333552413666,\n        \"min\": 2.1359523974571153,\n        \"max\": 20640.0,\n        \"num_unique_values\": 8,\n        \"samples\": [\n          35.63186143410853,\n          34.26,\n          20640.0\n        ],\n        \"semantic_type\": \"\",\n        \"description\": \"\"\n      }\n    },\n    {\n      \"column\": \"housing_median_age\",\n      \"properties\": {\n        \"dtype\": \"number\",\n        \"std\": 7288.35672120143,\n        \"min\": 1.0,\n        \"max\": 20640.0,\n        \"num_unique_values\": 8,\n        \"samples\": [\n          28.639486434108527,\n          29.0,\n          20640.0\n        ],\n        \"semantic_type\": \"\",\n        \"description\": \"\"\n      }\n    },\n    {\n      \"column\": \"total_rooms\",\n      \"properties\": {\n        \"dtype\": \"number\",\n        \"std\": 13944.990983306392,\n        \"min\": 2.0,\n        \"max\": 39320.0,\n        \"num_unique_values\": 8,\n        \"samples\": [\n          2635.7630813953488,\n          2127.0,\n          20640.0\n        ],\n        \"semantic_type\": \"\",\n        \"description\": \"\"\n      }\n    },\n    {\n      \"column\": \"total_bedrooms\",\n      \"properties\": {\n        \"dtype\": \"number\",\n        \"std\": 7106.427031043753,\n        \"min\": 1.0,\n        \"max\": 20433.0,\n        \"num_unique_values\": 8,\n        \"samples\": [\n          537.8705525375618,\n          435.0,\n          20433.0\n        ],\n        \"semantic_type\": \"\",\n        \"description\": \"\"\n      }\n    },\n    {\n      \"column\": \"population\",\n      \"properties\": {\n        \"dtype\": \"number\",\n        \"std\": 13192.258841737372,\n        \"min\": 3.0,\n        \"max\": 35682.0,\n        \"num_unique_values\": 8,\n        \"samples\": [\n          1425.4767441860465,\n          1166.0,\n          20640.0\n        ],\n        \"semantic_type\": \"\",\n        \"description\": \"\"\n      }\n    },\n    {\n      \"column\": \"households\",\n      \"properties\": {\n        \"dtype\": \"number\",\n        \"std\": 7167.532601135343,\n        \"min\": 1.0,\n        \"max\": 20640.0,\n        \"num_unique_values\": 8,\n        \"samples\": [\n          499.5396802325581,\n          409.0,\n          20640.0\n        ],\n        \"semantic_type\": \"\",\n        \"description\": \"\"\n      }\n    },\n    {\n      \"column\": \"median_income\",\n      \"properties\": {\n        \"dtype\": \"number\",\n        \"std\": 7295.7214358536385,\n        \"min\": 0.4999,\n        \"max\": 20640.0,\n        \"num_unique_values\": 8,\n        \"samples\": [\n          3.8706710029069766,\n          3.5347999999999997,\n          20640.0\n        ],\n        \"semantic_type\": \"\",\n        \"description\": \"\"\n      }\n    },\n    {\n      \"column\": \"median_house_value\",\n      \"properties\": {\n        \"dtype\": \"number\",\n        \"std\": 156160.28379826446,\n        \"min\": 14999.0,\n        \"max\": 500001.0,\n        \"num_unique_values\": 8,\n        \"samples\": [\n          206855.81690891474,\n          179700.0,\n          20640.0\n        ],\n        \"semantic_type\": \"\",\n        \"description\": \"\"\n      }\n    }\n  ]\n}"
            }
          },
          "metadata": {},
          "execution_count": 25
        }
      ]
    },
    {
      "cell_type": "code",
      "source": [
        "df.shape"
      ],
      "metadata": {
        "colab": {
          "base_uri": "https://localhost:8080/"
        },
        "id": "3iRBmS5MnQUp",
        "outputId": "8e517917-4be0-49d7-97fb-92ed4e885c3c"
      },
      "execution_count": null,
      "outputs": [
        {
          "output_type": "execute_result",
          "data": {
            "text/plain": [
              "(20640, 10)"
            ]
          },
          "metadata": {},
          "execution_count": 26
        }
      ]
    },
    {
      "cell_type": "code",
      "source": [
        "df.dtypes"
      ],
      "metadata": {
        "colab": {
          "base_uri": "https://localhost:8080/",
          "height": 397
        },
        "id": "UYZT1DdWnS78",
        "outputId": "bfe893f3-0f74-4cd9-a8b7-56ff51f5525c"
      },
      "execution_count": null,
      "outputs": [
        {
          "output_type": "execute_result",
          "data": {
            "text/plain": [
              "longitude             float64\n",
              "latitude              float64\n",
              "housing_median_age    float64\n",
              "total_rooms           float64\n",
              "total_bedrooms        float64\n",
              "population            float64\n",
              "households            float64\n",
              "median_income         float64\n",
              "median_house_value    float64\n",
              "ocean_proximity        object\n",
              "dtype: object"
            ],
            "text/html": [
              "<div>\n",
              "<style scoped>\n",
              "    .dataframe tbody tr th:only-of-type {\n",
              "        vertical-align: middle;\n",
              "    }\n",
              "\n",
              "    .dataframe tbody tr th {\n",
              "        vertical-align: top;\n",
              "    }\n",
              "\n",
              "    .dataframe thead th {\n",
              "        text-align: right;\n",
              "    }\n",
              "</style>\n",
              "<table border=\"1\" class=\"dataframe\">\n",
              "  <thead>\n",
              "    <tr style=\"text-align: right;\">\n",
              "      <th></th>\n",
              "      <th>0</th>\n",
              "    </tr>\n",
              "  </thead>\n",
              "  <tbody>\n",
              "    <tr>\n",
              "      <th>longitude</th>\n",
              "      <td>float64</td>\n",
              "    </tr>\n",
              "    <tr>\n",
              "      <th>latitude</th>\n",
              "      <td>float64</td>\n",
              "    </tr>\n",
              "    <tr>\n",
              "      <th>housing_median_age</th>\n",
              "      <td>float64</td>\n",
              "    </tr>\n",
              "    <tr>\n",
              "      <th>total_rooms</th>\n",
              "      <td>float64</td>\n",
              "    </tr>\n",
              "    <tr>\n",
              "      <th>total_bedrooms</th>\n",
              "      <td>float64</td>\n",
              "    </tr>\n",
              "    <tr>\n",
              "      <th>population</th>\n",
              "      <td>float64</td>\n",
              "    </tr>\n",
              "    <tr>\n",
              "      <th>households</th>\n",
              "      <td>float64</td>\n",
              "    </tr>\n",
              "    <tr>\n",
              "      <th>median_income</th>\n",
              "      <td>float64</td>\n",
              "    </tr>\n",
              "    <tr>\n",
              "      <th>median_house_value</th>\n",
              "      <td>float64</td>\n",
              "    </tr>\n",
              "    <tr>\n",
              "      <th>ocean_proximity</th>\n",
              "      <td>object</td>\n",
              "    </tr>\n",
              "  </tbody>\n",
              "</table>\n",
              "</div><br><label><b>dtype:</b> object</label>"
            ]
          },
          "metadata": {},
          "execution_count": 29
        }
      ]
    },
    {
      "cell_type": "markdown",
      "source": [
        "3. Find the target and features\n"
      ],
      "metadata": {
        "id": "DKCZGceJouUq"
      }
    },
    {
      "cell_type": "code",
      "source": [
        "x=df['median_house_value']\n",
        "print(x)"
      ],
      "metadata": {
        "colab": {
          "base_uri": "https://localhost:8080/"
        },
        "id": "JEYaLNuWo0wI",
        "outputId": "758b46b2-bef1-4bf4-fd67-55a3e1d76ecf"
      },
      "execution_count": null,
      "outputs": [
        {
          "output_type": "stream",
          "name": "stdout",
          "text": [
            "0        452600.0\n",
            "1        358500.0\n",
            "2        352100.0\n",
            "3        341300.0\n",
            "4        342200.0\n",
            "           ...   \n",
            "20635     78100.0\n",
            "20636     77100.0\n",
            "20637     92300.0\n",
            "20638     84700.0\n",
            "20639     89400.0\n",
            "Name: median_house_value, Length: 20640, dtype: float64\n"
          ]
        }
      ]
    },
    {
      "cell_type": "markdown",
      "source": [
        "4. Find the null values (if yes fill the null values with ‘0’ or mean of that column)"
      ],
      "metadata": {
        "id": "RmcvBwF7pGrA"
      }
    },
    {
      "cell_type": "code",
      "source": [
        "df_filled_zero=df.fillna(0)\n",
        "print(df)"
      ],
      "metadata": {
        "colab": {
          "base_uri": "https://localhost:8080/"
        },
        "id": "6FAT9BNjpK0g",
        "outputId": "7a9394e8-d1a2-45b2-e2a3-bda8077871f7"
      },
      "execution_count": null,
      "outputs": [
        {
          "output_type": "stream",
          "name": "stdout",
          "text": [
            "       longitude  latitude  housing_median_age  total_rooms  total_bedrooms  \\\n",
            "0        -122.23     37.88                41.0        880.0           129.0   \n",
            "1        -122.22     37.86                21.0       7099.0          1106.0   \n",
            "2        -122.24     37.85                52.0       1467.0           190.0   \n",
            "3        -122.25     37.85                52.0       1274.0           235.0   \n",
            "4        -122.25     37.85                52.0       1627.0           280.0   \n",
            "...          ...       ...                 ...          ...             ...   \n",
            "20635    -121.09     39.48                25.0       1665.0           374.0   \n",
            "20636    -121.21     39.49                18.0        697.0           150.0   \n",
            "20637    -121.22     39.43                17.0       2254.0           485.0   \n",
            "20638    -121.32     39.43                18.0       1860.0           409.0   \n",
            "20639    -121.24     39.37                16.0       2785.0           616.0   \n",
            "\n",
            "       population  households  median_income  median_house_value  \\\n",
            "0           322.0       126.0         8.3252            452600.0   \n",
            "1          2401.0      1138.0         8.3014            358500.0   \n",
            "2           496.0       177.0         7.2574            352100.0   \n",
            "3           558.0       219.0         5.6431            341300.0   \n",
            "4           565.0       259.0         3.8462            342200.0   \n",
            "...           ...         ...            ...                 ...   \n",
            "20635       845.0       330.0         1.5603             78100.0   \n",
            "20636       356.0       114.0         2.5568             77100.0   \n",
            "20637      1007.0       433.0         1.7000             92300.0   \n",
            "20638       741.0       349.0         1.8672             84700.0   \n",
            "20639      1387.0       530.0         2.3886             89400.0   \n",
            "\n",
            "      ocean_proximity  \n",
            "0            NEAR BAY  \n",
            "1            NEAR BAY  \n",
            "2            NEAR BAY  \n",
            "3            NEAR BAY  \n",
            "4            NEAR BAY  \n",
            "...               ...  \n",
            "20635          INLAND  \n",
            "20636          INLAND  \n",
            "20637          INLAND  \n",
            "20638          INLAND  \n",
            "20639          INLAND  \n",
            "\n",
            "[20640 rows x 10 columns]\n"
          ]
        }
      ]
    }
  ]
}